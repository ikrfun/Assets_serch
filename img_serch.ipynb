{
 "cells": [
  {
   "cell_type": "code",
   "execution_count": 1,
   "id": "967c7502-defd-413c-b4bc-315be71a2370",
   "metadata": {
    "tags": []
   },
   "outputs": [
    {
     "name": "stderr",
     "output_type": "stream",
     "text": [
      "100%|███████████████████████████████████████| 338M/338M [00:08<00:00, 43.8MiB/s]\n"
     ]
    }
   ],
   "source": [
    "from CLIP import clip\n",
    "model, preprocess = clip.load('ViT-B/32', jit=True)  \n",
    "model = model.eval()"
   ]
  },
  {
   "cell_type": "code",
   "execution_count": 2,
   "id": "400aa558-4be0-4e24-922b-1319aac8e1f1",
   "metadata": {
    "tags": []
   },
   "outputs": [
    {
     "ename": "AssertionError",
     "evalue": "Torch not compiled with CUDA enabled",
     "output_type": "error",
     "traceback": [
      "\u001b[0;31m---------------------------------------------------------------------------\u001b[0m",
      "\u001b[0;31mAssertionError\u001b[0m                            Traceback (most recent call last)",
      "Cell \u001b[0;32mIn[2], line 15\u001b[0m\n\u001b[1;32m      9\u001b[0m \u001b[38;5;66;03m# 前処理設定\u001b[39;00m\n\u001b[1;32m     10\u001b[0m preprocess \u001b[38;5;241m=\u001b[39m Compose([\n\u001b[1;32m     11\u001b[0m     Resize(\u001b[38;5;241m224\u001b[39m, interpolation\u001b[38;5;241m=\u001b[39mImage\u001b[38;5;241m.\u001b[39mBICUBIC),\n\u001b[1;32m     12\u001b[0m     CenterCrop(\u001b[38;5;241m224\u001b[39m),\n\u001b[1;32m     13\u001b[0m     ToTensor()\n\u001b[1;32m     14\u001b[0m ])\n\u001b[0;32m---> 15\u001b[0m image_mean \u001b[38;5;241m=\u001b[39m \u001b[43mtorch\u001b[49m\u001b[38;5;241;43m.\u001b[39;49m\u001b[43mtensor\u001b[49m\u001b[43m(\u001b[49m\u001b[43m[\u001b[49m\u001b[38;5;241;43m0.48145466\u001b[39;49m\u001b[43m,\u001b[49m\u001b[43m \u001b[49m\u001b[38;5;241;43m0.4578275\u001b[39;49m\u001b[43m,\u001b[49m\u001b[43m \u001b[49m\u001b[38;5;241;43m0.40821073\u001b[39;49m\u001b[43m]\u001b[49m\u001b[43m)\u001b[49m\u001b[38;5;241;43m.\u001b[39;49m\u001b[43mcuda\u001b[49m\u001b[43m(\u001b[49m\u001b[43m)\u001b[49m\n\u001b[1;32m     16\u001b[0m image_std \u001b[38;5;241m=\u001b[39m torch\u001b[38;5;241m.\u001b[39mtensor([\u001b[38;5;241m0.26862954\u001b[39m, \u001b[38;5;241m0.26130258\u001b[39m, \u001b[38;5;241m0.27577711\u001b[39m])\u001b[38;5;241m.\u001b[39mcuda()\n\u001b[1;32m     19\u001b[0m \u001b[38;5;66;03m# 画像の読み込み\u001b[39;00m\n",
      "File \u001b[0;32m~/.local/share/virtualenvs/Assets_serch-AccWLJqw/lib/python3.10/site-packages/torch/cuda/__init__.py:289\u001b[0m, in \u001b[0;36m_lazy_init\u001b[0;34m()\u001b[0m\n\u001b[1;32m    284\u001b[0m     \u001b[38;5;28;01mraise\u001b[39;00m \u001b[38;5;167;01mRuntimeError\u001b[39;00m(\n\u001b[1;32m    285\u001b[0m         \u001b[38;5;124m\"\u001b[39m\u001b[38;5;124mCannot re-initialize CUDA in forked subprocess. To use CUDA with \u001b[39m\u001b[38;5;124m\"\u001b[39m\n\u001b[1;32m    286\u001b[0m         \u001b[38;5;124m\"\u001b[39m\u001b[38;5;124mmultiprocessing, you must use the \u001b[39m\u001b[38;5;124m'\u001b[39m\u001b[38;5;124mspawn\u001b[39m\u001b[38;5;124m'\u001b[39m\u001b[38;5;124m start method\u001b[39m\u001b[38;5;124m\"\u001b[39m\n\u001b[1;32m    287\u001b[0m     )\n\u001b[1;32m    288\u001b[0m \u001b[38;5;28;01mif\u001b[39;00m \u001b[38;5;129;01mnot\u001b[39;00m \u001b[38;5;28mhasattr\u001b[39m(torch\u001b[38;5;241m.\u001b[39m_C, \u001b[38;5;124m\"\u001b[39m\u001b[38;5;124m_cuda_getDeviceCount\u001b[39m\u001b[38;5;124m\"\u001b[39m):\n\u001b[0;32m--> 289\u001b[0m     \u001b[38;5;28;01mraise\u001b[39;00m \u001b[38;5;167;01mAssertionError\u001b[39;00m(\u001b[38;5;124m\"\u001b[39m\u001b[38;5;124mTorch not compiled with CUDA enabled\u001b[39m\u001b[38;5;124m\"\u001b[39m)\n\u001b[1;32m    290\u001b[0m \u001b[38;5;28;01mif\u001b[39;00m _cudart \u001b[38;5;129;01mis\u001b[39;00m \u001b[38;5;28;01mNone\u001b[39;00m:\n\u001b[1;32m    291\u001b[0m     \u001b[38;5;28;01mraise\u001b[39;00m \u001b[38;5;167;01mAssertionError\u001b[39;00m(\n\u001b[1;32m    292\u001b[0m         \u001b[38;5;124m\"\u001b[39m\u001b[38;5;124mlibcudart functions unavailable. It looks like you have a broken build?\u001b[39m\u001b[38;5;124m\"\u001b[39m\n\u001b[1;32m    293\u001b[0m     )\n",
      "\u001b[0;31mAssertionError\u001b[0m: Torch not compiled with CUDA enabled"
     ]
    }
   ],
   "source": [
    "# --- 画像の前処理 ----\n",
    "import torch\n",
    "import numpy as np\n",
    "from torchvision.transforms import Compose, Resize, CenterCrop, ToTensor, Normalize\n",
    "from PIL import Image\n",
    "import glob\n",
    "from tqdm import tqdm\n",
    "\n",
    "# 前処理設定\n",
    "preprocess = Compose([\n",
    "    Resize(224, interpolation=Image.BICUBIC),\n",
    "    CenterCrop(224),\n",
    "    ToTensor()\n",
    "])\n",
    "image_mean = torch.tensor([0.48145466, 0.4578275, 0.40821073]).cuda()\n",
    "image_std = torch.tensor([0.26862954, 0.26130258, 0.27577711]).cuda()\n",
    "\n",
    "\n",
    "# 画像の読み込み\n",
    "images =[]\n",
    "files = glob.glob('./img/*.png')\n",
    "files.sort()\n",
    "\n",
    "for i, file in enumerate(tqdm(files)):\n",
    "      image = preprocess(Image.open(file).convert(\"RGB\"))\n",
    "      images.append(image)\n",
    "\n",
    "image_input = torch.tensor(np.stack(images)).cuda()\n",
    "image_input -= image_mean[:, None, None]\n",
    "image_input /= image_std[:, None, None]\n",
    "\n",
    "print('image_input.shape = ', image_input.shape)\n",
    "\n",
    "# --- 画像の前処理 ----\n",
    "import torch\n",
    "import numpy as np\n",
    "from torchvision.transforms import Compose, Resize, CenterCrop, ToTensor, Normalize\n",
    "from PIL import Image\n",
    "import glob\n",
    "from tqdm import tqdm\n",
    " \n",
    "# 前処理設定\n",
    "preprocess = Compose([\n",
    "    Resize(224, interpolation=Image.BICUBIC),\n",
    "    CenterCrop(224),\n",
    "    ToTensor()\n",
    "])\n",
    "image_mean = torch.tensor([0.48145466, 0.4578275, 0.40821073]).cuda()\n",
    "image_std = torch.tensor([0.26862954, 0.26130258, 0.27577711]).cuda()\n",
    " \n",
    " \n",
    "# 画像の読み込み\n",
    "images =[]\n",
    "files = glob.glob('./img/*.png')\n",
    "files.sort()\n",
    " \n",
    "for i, file in enumerate(tqdm(files)):\n",
    "      image = preprocess(Image.open(file).convert(\"RGB\"))\n",
    "      images.append(image)\n",
    " \n",
    "image_input = torch.tensor(np.stack(images)).cuda()\n",
    "image_input -= image_mean[:, None, None]\n",
    "image_input /= image_std[:, None, None]\n",
    " \n",
    "print('image_input.shape = ', image_input.shape)"
   ]
  },
  {
   "cell_type": "code",
   "execution_count": null,
   "id": "7fedba52-9cc0-40a4-8b46-4b8970434c55",
   "metadata": {
    "tags": []
   },
   "outputs": [],
   "source": []
  },
  {
   "cell_type": "code",
   "execution_count": null,
   "id": "6b97ed53-e9b3-46c7-a597-b09fb4d42526",
   "metadata": {},
   "outputs": [],
   "source": []
  },
  {
   "cell_type": "code",
   "execution_count": null,
   "id": "f38be594-c67c-42b0-9a11-5c75e9dbe810",
   "metadata": {},
   "outputs": [],
   "source": []
  },
  {
   "cell_type": "code",
   "execution_count": null,
   "id": "8367c23d-f135-4b01-b89f-fd44dd3b1a7d",
   "metadata": {},
   "outputs": [],
   "source": []
  }
 ],
 "metadata": {
  "kernelspec": {
   "display_name": "Python 3 (ipykernel)",
   "language": "python",
   "name": "python3"
  },
  "language_info": {
   "codemirror_mode": {
    "name": "ipython",
    "version": 3
   },
   "file_extension": ".py",
   "mimetype": "text/x-python",
   "name": "python",
   "nbconvert_exporter": "python",
   "pygments_lexer": "ipython3",
   "version": "3.10.12"
  }
 },
 "nbformat": 4,
 "nbformat_minor": 5
}
